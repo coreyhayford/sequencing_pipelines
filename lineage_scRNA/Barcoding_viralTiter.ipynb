{
 "cells": [
  {
   "cell_type": "code",
   "execution_count": 3,
   "metadata": {
    "collapsed": true
   },
   "outputs": [],
   "source": [
    "import pandas as pd\n",
    "import matplotlib.pyplot as plt\n",
    "import seaborn as sns\n"
   ]
  },
  {
   "cell_type": "code",
   "execution_count": 4,
   "metadata": {},
   "outputs": [
    {
     "data": {
      "text/html": [
       "<div>\n",
       "<style>\n",
       "    .dataframe thead tr:only-child th {\n",
       "        text-align: right;\n",
       "    }\n",
       "\n",
       "    .dataframe thead th {\n",
       "        text-align: left;\n",
       "    }\n",
       "\n",
       "    .dataframe tbody tr th {\n",
       "        vertical-align: top;\n",
       "    }\n",
       "</style>\n",
       "<table border=\"1\" class=\"dataframe\">\n",
       "  <thead>\n",
       "    <tr style=\"text-align: right;\">\n",
       "      <th></th>\n",
       "      <th>conc_virus</th>\n",
       "      <th>percBFP</th>\n",
       "      <th>pop</th>\n",
       "    </tr>\n",
       "  </thead>\n",
       "  <tbody>\n",
       "    <tr>\n",
       "      <th>0</th>\n",
       "      <td>0.0</td>\n",
       "      <td>0.0</td>\n",
       "      <td>H2B-RFP Labeled</td>\n",
       "    </tr>\n",
       "    <tr>\n",
       "      <th>1</th>\n",
       "      <td>0.4</td>\n",
       "      <td>1.6</td>\n",
       "      <td>H2B-RFP Labeled</td>\n",
       "    </tr>\n",
       "    <tr>\n",
       "      <th>2</th>\n",
       "      <td>1.2</td>\n",
       "      <td>4.4</td>\n",
       "      <td>H2B-RFP Labeled</td>\n",
       "    </tr>\n",
       "    <tr>\n",
       "      <th>3</th>\n",
       "      <td>3.6</td>\n",
       "      <td>15.5</td>\n",
       "      <td>H2B-RFP Labeled</td>\n",
       "    </tr>\n",
       "    <tr>\n",
       "      <th>4</th>\n",
       "      <td>10.8</td>\n",
       "      <td>28.7</td>\n",
       "      <td>H2B-RFP Labeled</td>\n",
       "    </tr>\n",
       "    <tr>\n",
       "      <th>5</th>\n",
       "      <td>32.4</td>\n",
       "      <td>52.4</td>\n",
       "      <td>H2B-RFP Labeled</td>\n",
       "    </tr>\n",
       "    <tr>\n",
       "      <th>6</th>\n",
       "      <td>0.0</td>\n",
       "      <td>0.0</td>\n",
       "      <td>Unlabeled</td>\n",
       "    </tr>\n",
       "    <tr>\n",
       "      <th>7</th>\n",
       "      <td>0.4</td>\n",
       "      <td>2.5</td>\n",
       "      <td>Unlabeled</td>\n",
       "    </tr>\n",
       "    <tr>\n",
       "      <th>8</th>\n",
       "      <td>1.2</td>\n",
       "      <td>7.8</td>\n",
       "      <td>Unlabeled</td>\n",
       "    </tr>\n",
       "    <tr>\n",
       "      <th>9</th>\n",
       "      <td>3.6</td>\n",
       "      <td>14.2</td>\n",
       "      <td>Unlabeled</td>\n",
       "    </tr>\n",
       "    <tr>\n",
       "      <th>10</th>\n",
       "      <td>10.8</td>\n",
       "      <td>33.1</td>\n",
       "      <td>Unlabeled</td>\n",
       "    </tr>\n",
       "    <tr>\n",
       "      <th>11</th>\n",
       "      <td>32.4</td>\n",
       "      <td>56.8</td>\n",
       "      <td>Unlabeled</td>\n",
       "    </tr>\n",
       "  </tbody>\n",
       "</table>\n",
       "</div>"
      ],
      "text/plain": [
       "    conc_virus  percBFP              pop\n",
       "0          0.0      0.0  H2B-RFP Labeled\n",
       "1          0.4      1.6  H2B-RFP Labeled\n",
       "2          1.2      4.4  H2B-RFP Labeled\n",
       "3          3.6     15.5  H2B-RFP Labeled\n",
       "4         10.8     28.7  H2B-RFP Labeled\n",
       "5         32.4     52.4  H2B-RFP Labeled\n",
       "6          0.0      0.0        Unlabeled\n",
       "7          0.4      2.5        Unlabeled\n",
       "8          1.2      7.8        Unlabeled\n",
       "9          3.6     14.2        Unlabeled\n",
       "10        10.8     33.1        Unlabeled\n",
       "11        32.4     56.8        Unlabeled"
      ]
     },
     "execution_count": 4,
     "metadata": {},
     "output_type": "execute_result"
    }
   ],
   "source": [
    "# See flow-sorting batch reports for data\n",
    "amt_virus = [0,1,3,9,27,81,0,1,3,9,27,81]\n",
    "tot_vol = 2.5\n",
    "amt_virus_conc = [x / tot_vol for x in amt_virus]\n",
    "percBFP = [0,1.6,4.4,15.5,28.7,52.4,0,2.5,7.8,14.2,33.1,56.8]\n",
    "pop = ['H2B-RFP Labeled', 'H2B-RFP Labeled','H2B-RFP Labeled',\n",
    "       'H2B-RFP Labeled','H2B-RFP Labeled','H2B-RFP Labeled',\n",
    "       \"Unlabeled\", \"Unlabeled\", \"Unlabeled\", \"Unlabeled\", \n",
    "      \"Unlabeled\", \"Unlabeled\"]\n",
    "\n",
    "viral_titer = pd.DataFrame({'conc_virus':amt_virus_conc,\n",
    "                            'percBFP':percBFP,\n",
    "                            'pop':pop})\n",
    "\n",
    "viral_titer"
   ]
  },
  {
   "cell_type": "code",
   "execution_count": 9,
   "metadata": {},
   "outputs": [
    {
     "data": {
      "image/png": "[encoded data removed]",
      "text/plain": [
       "<matplotlib.figure.Figure at 0x1a200fa310>"
      ]
     },
     "metadata": {},
     "output_type": "display_data"
    }
   ],
   "source": [
    "%matplotlib inline\n",
    "\n",
    "# plt.figure(figsize=(12,16))\n",
    "fg = sns.FacetGrid(data = viral_titer, hue='pop')\n",
    "fg.map(plt.plot, 'conc_virus', 'percBFP').add_legend()\n",
    "fg.map(plt.scatter, 'conc_virus', 'percBFP')\n",
    "plt.xscale('log')\n",
    "plt.ylabel('Percent BFP')\n",
    "plt.xlabel('Concentration of Virus (uL virus / mL media)')\n",
    "plt.axhline(y=10, ls='--', color = 'k')\n",
    "plt.title('Viral Titer', weight='bold')\n",
    "# plt.legend(loc='upper right')\n",
    "plt.savefig('BarcodeViralTiterConcentration_log.pdf')"
   ]
  },
  {
   "cell_type": "code",
   "execution_count": null,
   "metadata": {
    "collapsed": true
   },
   "outputs": [],
   "source": []
  }
 ],
 "metadata": {
  "kernelspec": {
   "display_name": "Python 2",
   "language": "python",
   "name": "python2"
  },
  "language_info": {
   "codemirror_mode": {
    "name": "ipython",
    "version": 2
   },
   "file_extension": ".py",
   "mimetype": "text/x-python",
   "name": "python",
   "nbconvert_exporter": "python",
   "pygments_lexer": "ipython2",
   "version": "2.7.15"
  }
 },
 "nbformat": 4,
 "nbformat_minor": 2
}
